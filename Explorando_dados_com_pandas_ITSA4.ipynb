{
  "nbformat": 4,
  "nbformat_minor": 0,
  "metadata": {
    "colab": {
      "name": "Explorando dados com pandas_ITSA4.ipynb",
      "provenance": [],
      "authorship_tag": "ABX9TyMaks5zx8fL0EpcWLCXZfLQ",
      "include_colab_link": true
    },
    "kernelspec": {
      "name": "python3",
      "display_name": "Python 3"
    }
  },
  "cells": [
    {
      "cell_type": "markdown",
      "metadata": {
        "id": "view-in-github",
        "colab_type": "text"
      },
      "source": [
        "<a href=\"https://colab.research.google.com/github/marcos-code/datasets/blob/main/Explorando_dados_com_pandas_ITSA4.ipynb\" target=\"_parent\"><img src=\"https://colab.research.google.com/assets/colab-badge.svg\" alt=\"Open In Colab\"/></a>"
      ]
    },
    {
      "cell_type": "code",
      "metadata": {
        "id": "zxjwng-9HqRE"
      },
      "source": [
        "import pandas as pd"
      ],
      "execution_count": 2,
      "outputs": []
    },
    {
      "cell_type": "code",
      "metadata": {
        "id": "f0Ka7-r-HToI"
      },
      "source": [
        "# importando aquivo csv para pandas\r\n",
        "\r\n",
        "df = pd.read_csv(\"https://raw.githubusercontent.com/marcos-code/datasets/main/ITSA4.SA.csv\")\r\n"
      ],
      "execution_count": 6,
      "outputs": []
    },
    {
      "cell_type": "code",
      "metadata": {
        "colab": {
          "base_uri": "https://localhost:8080/"
        },
        "id": "L13huidnHy6r",
        "outputId": "61325472-b306-4245-a07a-a986a57569ce"
      },
      "source": [
        "# ver o tipo da varariavel df\r\n",
        "type(df)"
      ],
      "execution_count": 4,
      "outputs": [
        {
          "output_type": "execute_result",
          "data": {
            "text/plain": [
              "pandas.core.frame.DataFrame"
            ]
          },
          "metadata": {
            "tags": []
          },
          "execution_count": 4
        }
      ]
    },
    {
      "cell_type": "code",
      "metadata": {
        "colab": {
          "base_uri": "https://localhost:8080/"
        },
        "id": "-jPNHM7HIPcY",
        "outputId": "8ddada81-c42c-4432-d586-f61e7036e8a4"
      },
      "source": [
        "# ver o tamanho do Dataframe (formato) linhas, colunas\r\n",
        "df.shape"
      ],
      "execution_count": 5,
      "outputs": [
        {
          "output_type": "execute_result",
          "data": {
            "text/plain": [
              "(247, 7)"
            ]
          },
          "metadata": {
            "tags": []
          },
          "execution_count": 5
        }
      ]
    },
    {
      "cell_type": "code",
      "metadata": {
        "colab": {
          "base_uri": "https://localhost:8080/",
          "height": 202
        },
        "id": "NzMf62-CIm1k",
        "outputId": "7f296998-76f9-4039-fcc5-72dafa82b65f"
      },
      "source": [
        "#conhecendo os dados as 5 primeiras entradas\r\n",
        "\r\n",
        "df.head()\r\n"
      ],
      "execution_count": 7,
      "outputs": [
        {
          "output_type": "execute_result",
          "data": {
            "text/html": [
              "<div>\n",
              "<style scoped>\n",
              "    .dataframe tbody tr th:only-of-type {\n",
              "        vertical-align: middle;\n",
              "    }\n",
              "\n",
              "    .dataframe tbody tr th {\n",
              "        vertical-align: top;\n",
              "    }\n",
              "\n",
              "    .dataframe thead th {\n",
              "        text-align: right;\n",
              "    }\n",
              "</style>\n",
              "<table border=\"1\" class=\"dataframe\">\n",
              "  <thead>\n",
              "    <tr style=\"text-align: right;\">\n",
              "      <th></th>\n",
              "      <th>Date</th>\n",
              "      <th>Open</th>\n",
              "      <th>High</th>\n",
              "      <th>Low</th>\n",
              "      <th>Close</th>\n",
              "      <th>Adj Close</th>\n",
              "      <th>Volume</th>\n",
              "    </tr>\n",
              "  </thead>\n",
              "  <tbody>\n",
              "    <tr>\n",
              "      <th>0</th>\n",
              "      <td>2020-02-10</td>\n",
              "      <td>12.85</td>\n",
              "      <td>13.16</td>\n",
              "      <td>12.75</td>\n",
              "      <td>13.05</td>\n",
              "      <td>12.537290</td>\n",
              "      <td>21223000.0</td>\n",
              "    </tr>\n",
              "    <tr>\n",
              "      <th>1</th>\n",
              "      <td>2020-02-11</td>\n",
              "      <td>13.22</td>\n",
              "      <td>13.39</td>\n",
              "      <td>13.09</td>\n",
              "      <td>13.28</td>\n",
              "      <td>12.758253</td>\n",
              "      <td>29302500.0</td>\n",
              "    </tr>\n",
              "    <tr>\n",
              "      <th>2</th>\n",
              "      <td>2020-02-12</td>\n",
              "      <td>13.32</td>\n",
              "      <td>13.51</td>\n",
              "      <td>13.25</td>\n",
              "      <td>13.37</td>\n",
              "      <td>12.844719</td>\n",
              "      <td>29504800.0</td>\n",
              "    </tr>\n",
              "    <tr>\n",
              "      <th>3</th>\n",
              "      <td>2020-02-13</td>\n",
              "      <td>13.27</td>\n",
              "      <td>13.36</td>\n",
              "      <td>13.13</td>\n",
              "      <td>13.17</td>\n",
              "      <td>12.652575</td>\n",
              "      <td>13984500.0</td>\n",
              "    </tr>\n",
              "    <tr>\n",
              "      <th>4</th>\n",
              "      <td>2020-02-14</td>\n",
              "      <td>13.15</td>\n",
              "      <td>13.17</td>\n",
              "      <td>13.00</td>\n",
              "      <td>13.00</td>\n",
              "      <td>12.489255</td>\n",
              "      <td>13364400.0</td>\n",
              "    </tr>\n",
              "  </tbody>\n",
              "</table>\n",
              "</div>"
            ],
            "text/plain": [
              "         Date   Open   High    Low  Close  Adj Close      Volume\n",
              "0  2020-02-10  12.85  13.16  12.75  13.05  12.537290  21223000.0\n",
              "1  2020-02-11  13.22  13.39  13.09  13.28  12.758253  29302500.0\n",
              "2  2020-02-12  13.32  13.51  13.25  13.37  12.844719  29504800.0\n",
              "3  2020-02-13  13.27  13.36  13.13  13.17  12.652575  13984500.0\n",
              "4  2020-02-14  13.15  13.17  13.00  13.00  12.489255  13364400.0"
            ]
          },
          "metadata": {
            "tags": []
          },
          "execution_count": 7
        }
      ]
    },
    {
      "cell_type": "code",
      "metadata": {
        "colab": {
          "base_uri": "https://localhost:8080/",
          "height": 202
        },
        "id": "m5c0h0r7I4CR",
        "outputId": "ef0b4bda-fe0d-4314-fb2c-fc47a7e42e3a"
      },
      "source": [
        "# conhecendo as 5 ultimas entradas\r\n",
        "df.tail()"
      ],
      "execution_count": 8,
      "outputs": [
        {
          "output_type": "execute_result",
          "data": {
            "text/html": [
              "<div>\n",
              "<style scoped>\n",
              "    .dataframe tbody tr th:only-of-type {\n",
              "        vertical-align: middle;\n",
              "    }\n",
              "\n",
              "    .dataframe tbody tr th {\n",
              "        vertical-align: top;\n",
              "    }\n",
              "\n",
              "    .dataframe thead th {\n",
              "        text-align: right;\n",
              "    }\n",
              "</style>\n",
              "<table border=\"1\" class=\"dataframe\">\n",
              "  <thead>\n",
              "    <tr style=\"text-align: right;\">\n",
              "      <th></th>\n",
              "      <th>Date</th>\n",
              "      <th>Open</th>\n",
              "      <th>High</th>\n",
              "      <th>Low</th>\n",
              "      <th>Close</th>\n",
              "      <th>Adj Close</th>\n",
              "      <th>Volume</th>\n",
              "    </tr>\n",
              "  </thead>\n",
              "  <tbody>\n",
              "    <tr>\n",
              "      <th>242</th>\n",
              "      <td>2021-02-03</td>\n",
              "      <td>10.82</td>\n",
              "      <td>11.02</td>\n",
              "      <td>10.77</td>\n",
              "      <td>10.82</td>\n",
              "      <td>10.82</td>\n",
              "      <td>27407500.0</td>\n",
              "    </tr>\n",
              "    <tr>\n",
              "      <th>243</th>\n",
              "      <td>2021-02-04</td>\n",
              "      <td>10.85</td>\n",
              "      <td>10.90</td>\n",
              "      <td>10.75</td>\n",
              "      <td>10.82</td>\n",
              "      <td>10.82</td>\n",
              "      <td>32973100.0</td>\n",
              "    </tr>\n",
              "    <tr>\n",
              "      <th>244</th>\n",
              "      <td>2021-02-05</td>\n",
              "      <td>10.84</td>\n",
              "      <td>10.89</td>\n",
              "      <td>10.70</td>\n",
              "      <td>10.77</td>\n",
              "      <td>10.77</td>\n",
              "      <td>13020300.0</td>\n",
              "    </tr>\n",
              "    <tr>\n",
              "      <th>245</th>\n",
              "      <td>2021-02-08</td>\n",
              "      <td>10.73</td>\n",
              "      <td>10.75</td>\n",
              "      <td>10.58</td>\n",
              "      <td>10.61</td>\n",
              "      <td>10.61</td>\n",
              "      <td>18009500.0</td>\n",
              "    </tr>\n",
              "    <tr>\n",
              "      <th>246</th>\n",
              "      <td>2021-02-09</td>\n",
              "      <td>10.58</td>\n",
              "      <td>10.84</td>\n",
              "      <td>10.49</td>\n",
              "      <td>10.79</td>\n",
              "      <td>10.79</td>\n",
              "      <td>19951300.0</td>\n",
              "    </tr>\n",
              "  </tbody>\n",
              "</table>\n",
              "</div>"
            ],
            "text/plain": [
              "           Date   Open   High    Low  Close  Adj Close      Volume\n",
              "242  2021-02-03  10.82  11.02  10.77  10.82      10.82  27407500.0\n",
              "243  2021-02-04  10.85  10.90  10.75  10.82      10.82  32973100.0\n",
              "244  2021-02-05  10.84  10.89  10.70  10.77      10.77  13020300.0\n",
              "245  2021-02-08  10.73  10.75  10.58  10.61      10.61  18009500.0\n",
              "246  2021-02-09  10.58  10.84  10.49  10.79      10.79  19951300.0"
            ]
          },
          "metadata": {
            "tags": []
          },
          "execution_count": 8
        }
      ]
    },
    {
      "cell_type": "code",
      "metadata": {
        "colab": {
          "base_uri": "https://localhost:8080/"
        },
        "id": "E_mEXIBQI_fL",
        "outputId": "ef661039-1853-44a8-8a4e-c1c083a847f7"
      },
      "source": [
        " # ver os nomes das colunas \r\n",
        " df.columns"
      ],
      "execution_count": 9,
      "outputs": [
        {
          "output_type": "execute_result",
          "data": {
            "text/plain": [
              "Index(['Date', 'Open', 'High', 'Low', 'Close', 'Adj Close', 'Volume'], dtype='object')"
            ]
          },
          "metadata": {
            "tags": []
          },
          "execution_count": 9
        }
      ]
    },
    {
      "cell_type": "code",
      "metadata": {
        "colab": {
          "base_uri": "https://localhost:8080/"
        },
        "id": "f9r8CjwrJHQy",
        "outputId": "305d5151-5d96-466e-ac62-29055f29eee2"
      },
      "source": [
        "# conhecer os tipos de variáveis de cada coluna, use df.dtypes\r\n",
        "df.dtypes"
      ],
      "execution_count": 10,
      "outputs": [
        {
          "output_type": "execute_result",
          "data": {
            "text/plain": [
              "Date          object\n",
              "Open         float64\n",
              "High         float64\n",
              "Low          float64\n",
              "Close        float64\n",
              "Adj Close    float64\n",
              "Volume       float64\n",
              "dtype: object"
            ]
          },
          "metadata": {
            "tags": []
          },
          "execution_count": 10
        }
      ]
    },
    {
      "cell_type": "code",
      "metadata": {
        "colab": {
          "base_uri": "https://localhost:8080/"
        },
        "id": "6SjYDruaJUj1",
        "outputId": "a013d13d-0d49-425f-84d5-7d6b2d552559"
      },
      "source": [
        "# outra maneira de descobrir o tipo das variáveis\r\n",
        "df.info()"
      ],
      "execution_count": 11,
      "outputs": [
        {
          "output_type": "stream",
          "text": [
            "<class 'pandas.core.frame.DataFrame'>\n",
            "RangeIndex: 247 entries, 0 to 246\n",
            "Data columns (total 7 columns):\n",
            " #   Column     Non-Null Count  Dtype  \n",
            "---  ------     --------------  -----  \n",
            " 0   Date       247 non-null    object \n",
            " 1   Open       246 non-null    float64\n",
            " 2   High       246 non-null    float64\n",
            " 3   Low        246 non-null    float64\n",
            " 4   Close      246 non-null    float64\n",
            " 5   Adj Close  246 non-null    float64\n",
            " 6   Volume     246 non-null    float64\n",
            "dtypes: float64(6), object(1)\n",
            "memory usage: 13.6+ KB\n"
          ],
          "name": "stdout"
        }
      ]
    },
    {
      "cell_type": "code",
      "metadata": {
        "colab": {
          "base_uri": "https://localhost:8080/"
        },
        "id": "YKLeZUz9JdND",
        "outputId": "5625ea70-9a84-47a6-fa36-8661f8fe2a3f"
      },
      "source": [
        "# selecionando colunas\r\n",
        "df.Open"
      ],
      "execution_count": 15,
      "outputs": [
        {
          "output_type": "execute_result",
          "data": {
            "text/plain": [
              "0      12.85\n",
              "1      13.22\n",
              "2      13.32\n",
              "3      13.27\n",
              "4      13.15\n",
              "       ...  \n",
              "242    10.82\n",
              "243    10.85\n",
              "244    10.84\n",
              "245    10.73\n",
              "246    10.58\n",
              "Name: Open, Length: 247, dtype: float64"
            ]
          },
          "metadata": {
            "tags": []
          },
          "execution_count": 15
        }
      ]
    },
    {
      "cell_type": "code",
      "metadata": {
        "colab": {
          "base_uri": "https://localhost:8080/"
        },
        "id": "ec-aCXIkJnts",
        "outputId": "4d8f282b-69ab-47dc-82b9-c44e13c17651"
      },
      "source": [
        "df['Close']"
      ],
      "execution_count": 14,
      "outputs": [
        {
          "output_type": "execute_result",
          "data": {
            "text/plain": [
              "0      13.05\n",
              "1      13.28\n",
              "2      13.37\n",
              "3      13.17\n",
              "4      13.00\n",
              "       ...  \n",
              "242    10.82\n",
              "243    10.82\n",
              "244    10.77\n",
              "245    10.61\n",
              "246    10.79\n",
              "Name: Close, Length: 247, dtype: float64"
            ]
          },
          "metadata": {
            "tags": []
          },
          "execution_count": 14
        }
      ]
    },
    {
      "cell_type": "markdown",
      "metadata": {
        "id": "i10KrPn2Kygc"
      },
      "source": [
        "#Calculando a média da coluna"
      ]
    },
    {
      "cell_type": "code",
      "metadata": {
        "colab": {
          "base_uri": "https://localhost:8080/"
        },
        "id": "QOEQUNbsKZlH",
        "outputId": "8a820ec0-ca7b-4146-960d-2f7dca6e07c7"
      },
      "source": [
        "df.Open.mean()"
      ],
      "execution_count": 16,
      "outputs": [
        {
          "output_type": "execute_result",
          "data": {
            "text/plain": [
              "10.131951219512198"
            ]
          },
          "metadata": {
            "tags": []
          },
          "execution_count": 16
        }
      ]
    },
    {
      "cell_type": "code",
      "metadata": {
        "colab": {
          "base_uri": "https://localhost:8080/"
        },
        "id": "FiD-9-McK43G",
        "outputId": "700c345c-2208-40d0-b01b-c4edd4ed87d1"
      },
      "source": [
        "df.Close.mean()"
      ],
      "execution_count": 17,
      "outputs": [
        {
          "output_type": "execute_result",
          "data": {
            "text/plain": [
              "10.112845528455289"
            ]
          },
          "metadata": {
            "tags": []
          },
          "execution_count": 17
        }
      ]
    },
    {
      "cell_type": "markdown",
      "metadata": {
        "id": "TrybFMMuLAIH"
      },
      "source": [
        "#Trabalhando com datas"
      ]
    },
    {
      "cell_type": "code",
      "metadata": {
        "colab": {
          "base_uri": "https://localhost:8080/"
        },
        "id": "W6yigWWVK9Gh",
        "outputId": "6abf83b1-5f49-4c3d-92bb-c28fe4c46a77"
      },
      "source": [
        "df.Date"
      ],
      "execution_count": 18,
      "outputs": [
        {
          "output_type": "execute_result",
          "data": {
            "text/plain": [
              "0      2020-02-10\n",
              "1      2020-02-11\n",
              "2      2020-02-12\n",
              "3      2020-02-13\n",
              "4      2020-02-14\n",
              "          ...    \n",
              "242    2021-02-03\n",
              "243    2021-02-04\n",
              "244    2021-02-05\n",
              "245    2021-02-08\n",
              "246    2021-02-09\n",
              "Name: Date, Length: 247, dtype: object"
            ]
          },
          "metadata": {
            "tags": []
          },
          "execution_count": 18
        }
      ]
    },
    {
      "cell_type": "code",
      "metadata": {
        "colab": {
          "base_uri": "https://localhost:8080/"
        },
        "id": "K0XEt-m6LGgl",
        "outputId": "5d213254-6eb9-4b65-b641-d9ac43470354"
      },
      "source": [
        "#convertendo coluna Date em datetime\r\n",
        "df.Date = pd.to_datetime(df.Date,format=\"%Y-%m-%d\")\r\n",
        "df.Date"
      ],
      "execution_count": 20,
      "outputs": [
        {
          "output_type": "execute_result",
          "data": {
            "text/plain": [
              "0     2020-02-10\n",
              "1     2020-02-11\n",
              "2     2020-02-12\n",
              "3     2020-02-13\n",
              "4     2020-02-14\n",
              "         ...    \n",
              "242   2021-02-03\n",
              "243   2021-02-04\n",
              "244   2021-02-05\n",
              "245   2021-02-08\n",
              "246   2021-02-09\n",
              "Name: Date, Length: 247, dtype: datetime64[ns]"
            ]
          },
          "metadata": {
            "tags": []
          },
          "execution_count": 20
        }
      ]
    },
    {
      "cell_type": "code",
      "metadata": {
        "colab": {
          "base_uri": "https://localhost:8080/"
        },
        "id": "2LXVJX5PL0Sj",
        "outputId": "9b3c7a37-7ef1-491d-c354-761206092998"
      },
      "source": [
        "#acessando os componentes de uma data indivudualmente usando df.Date.dt.day (acessando o dia)\r\n",
        "df.Date.dt.day"
      ],
      "execution_count": 21,
      "outputs": [
        {
          "output_type": "execute_result",
          "data": {
            "text/plain": [
              "0      10\n",
              "1      11\n",
              "2      12\n",
              "3      13\n",
              "4      14\n",
              "       ..\n",
              "242     3\n",
              "243     4\n",
              "244     5\n",
              "245     8\n",
              "246     9\n",
              "Name: Date, Length: 247, dtype: int64"
            ]
          },
          "metadata": {
            "tags": []
          },
          "execution_count": 21
        }
      ]
    },
    {
      "cell_type": "code",
      "metadata": {
        "colab": {
          "base_uri": "https://localhost:8080/"
        },
        "id": "XeOPhr0EMWiw",
        "outputId": "f77b2cd8-4ed9-40a2-bfe1-be28f8ebcc48"
      },
      "source": [
        "#acessando o mês\r\n",
        "df.Date.dt.month"
      ],
      "execution_count": 22,
      "outputs": [
        {
          "output_type": "execute_result",
          "data": {
            "text/plain": [
              "0      2\n",
              "1      2\n",
              "2      2\n",
              "3      2\n",
              "4      2\n",
              "      ..\n",
              "242    2\n",
              "243    2\n",
              "244    2\n",
              "245    2\n",
              "246    2\n",
              "Name: Date, Length: 247, dtype: int64"
            ]
          },
          "metadata": {
            "tags": []
          },
          "execution_count": 22
        }
      ]
    },
    {
      "cell_type": "code",
      "metadata": {
        "colab": {
          "base_uri": "https://localhost:8080/"
        },
        "id": "fiC0noLuMshN",
        "outputId": "0521c594-24fe-46c0-ff21-fb5cb055ed4f"
      },
      "source": [
        "#acessando a semana\r\n",
        "df.Date.dt.weekday"
      ],
      "execution_count": 23,
      "outputs": [
        {
          "output_type": "execute_result",
          "data": {
            "text/plain": [
              "0      0\n",
              "1      1\n",
              "2      2\n",
              "3      3\n",
              "4      4\n",
              "      ..\n",
              "242    2\n",
              "243    3\n",
              "244    4\n",
              "245    0\n",
              "246    1\n",
              "Name: Date, Length: 247, dtype: int64"
            ]
          },
          "metadata": {
            "tags": []
          },
          "execution_count": 23
        }
      ]
    },
    {
      "cell_type": "code",
      "metadata": {
        "id": "4k-RkO61M0Fj"
      },
      "source": [
        ""
      ],
      "execution_count": null,
      "outputs": []
    }
  ]
}