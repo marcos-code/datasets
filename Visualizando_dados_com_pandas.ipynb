{
  "nbformat": 4,
  "nbformat_minor": 0,
  "metadata": {
    "colab": {
      "name": "Visualizando dados com pandas.ipynb",
      "provenance": [],
      "authorship_tag": "ABX9TyNlYIcZ5cP/y974o24mCKtO",
      "include_colab_link": true
    },
    "kernelspec": {
      "name": "python3",
      "display_name": "Python 3"
    }
  },
  "cells": [
    {
      "cell_type": "markdown",
      "metadata": {
        "id": "view-in-github",
        "colab_type": "text"
      },
      "source": [
        "<a href=\"https://colab.research.google.com/github/marcos-code/datasets_pandas/blob/main/Visualizando_dados_com_pandas.ipynb\" target=\"_parent\"><img src=\"https://colab.research.google.com/assets/colab-badge.svg\" alt=\"Open In Colab\"/></a>"
      ]
    },
    {
      "cell_type": "markdown",
      "metadata": {
        "id": "biEdop6Cgx-H"
      },
      "source": [
        "#Visualização de Dados com Pandas"
      ]
    },
    {
      "cell_type": "code",
      "metadata": {
        "id": "7XSq-zUEcjbe"
      },
      "source": [
        "import pandas as pd\r\n"
      ],
      "execution_count": 1,
      "outputs": []
    },
    {
      "cell_type": "code",
      "metadata": {
        "colab": {
          "base_uri": "https://localhost:8080/",
          "height": 233
        },
        "id": "CpNcn5tJoHac",
        "outputId": "cf382f38-f524-4443-8006-1fe77a70c14d"
      },
      "source": [
        "# importando o aquivo csv\r\n",
        "df = pd.read_csv('https://raw.githubusercontent.com/marcos-code/datasets_pandas/main/BBAS3.SA.csv')\r\n",
        "df.Date = pd.to_datetime(df.Date)\r\n",
        "df.set_index('Date', inplace=True)\r\n",
        "\r\n",
        "#primeiras entradas\r\n",
        "df.head()"
      ],
      "execution_count": 12,
      "outputs": [
        {
          "output_type": "execute_result",
          "data": {
            "text/html": [
              "<div>\n",
              "<style scoped>\n",
              "    .dataframe tbody tr th:only-of-type {\n",
              "        vertical-align: middle;\n",
              "    }\n",
              "\n",
              "    .dataframe tbody tr th {\n",
              "        vertical-align: top;\n",
              "    }\n",
              "\n",
              "    .dataframe thead th {\n",
              "        text-align: right;\n",
              "    }\n",
              "</style>\n",
              "<table border=\"1\" class=\"dataframe\">\n",
              "  <thead>\n",
              "    <tr style=\"text-align: right;\">\n",
              "      <th></th>\n",
              "      <th>Open</th>\n",
              "      <th>High</th>\n",
              "      <th>Low</th>\n",
              "      <th>Close</th>\n",
              "      <th>Adj Close</th>\n",
              "      <th>Volume</th>\n",
              "    </tr>\n",
              "    <tr>\n",
              "      <th>Date</th>\n",
              "      <th></th>\n",
              "      <th></th>\n",
              "      <th></th>\n",
              "      <th></th>\n",
              "      <th></th>\n",
              "      <th></th>\n",
              "    </tr>\n",
              "  </thead>\n",
              "  <tbody>\n",
              "    <tr>\n",
              "      <th>2020-02-11</th>\n",
              "      <td>49.919998</td>\n",
              "      <td>51.650002</td>\n",
              "      <td>49.680000</td>\n",
              "      <td>51.320000</td>\n",
              "      <td>49.331635</td>\n",
              "      <td>18096500.0</td>\n",
              "    </tr>\n",
              "    <tr>\n",
              "      <th>2020-02-12</th>\n",
              "      <td>51.869999</td>\n",
              "      <td>52.360001</td>\n",
              "      <td>50.669998</td>\n",
              "      <td>51.619999</td>\n",
              "      <td>49.620007</td>\n",
              "      <td>16617100.0</td>\n",
              "    </tr>\n",
              "    <tr>\n",
              "      <th>2020-02-13</th>\n",
              "      <td>51.349998</td>\n",
              "      <td>51.540001</td>\n",
              "      <td>50.450001</td>\n",
              "      <td>50.820000</td>\n",
              "      <td>48.851002</td>\n",
              "      <td>13806300.0</td>\n",
              "    </tr>\n",
              "    <tr>\n",
              "      <th>2020-02-14</th>\n",
              "      <td>50.880001</td>\n",
              "      <td>50.959999</td>\n",
              "      <td>49.570000</td>\n",
              "      <td>49.849998</td>\n",
              "      <td>47.918587</td>\n",
              "      <td>10022700.0</td>\n",
              "    </tr>\n",
              "    <tr>\n",
              "      <th>2020-02-17</th>\n",
              "      <td>50.080002</td>\n",
              "      <td>50.240002</td>\n",
              "      <td>49.099998</td>\n",
              "      <td>49.099998</td>\n",
              "      <td>47.197647</td>\n",
              "      <td>6749000.0</td>\n",
              "    </tr>\n",
              "  </tbody>\n",
              "</table>\n",
              "</div>"
            ],
            "text/plain": [
              "                 Open       High        Low      Close  Adj Close      Volume\n",
              "Date                                                                         \n",
              "2020-02-11  49.919998  51.650002  49.680000  51.320000  49.331635  18096500.0\n",
              "2020-02-12  51.869999  52.360001  50.669998  51.619999  49.620007  16617100.0\n",
              "2020-02-13  51.349998  51.540001  50.450001  50.820000  48.851002  13806300.0\n",
              "2020-02-14  50.880001  50.959999  49.570000  49.849998  47.918587  10022700.0\n",
              "2020-02-17  50.080002  50.240002  49.099998  49.099998  47.197647   6749000.0"
            ]
          },
          "metadata": {
            "tags": []
          },
          "execution_count": 12
        }
      ]
    },
    {
      "cell_type": "code",
      "metadata": {
        "colab": {
          "base_uri": "https://localhost:8080/"
        },
        "id": "NGmWcQqqolO5",
        "outputId": "616af7a4-c01d-4de8-f4ad-7f91ae5e3cee"
      },
      "source": [
        "df.index"
      ],
      "execution_count": 13,
      "outputs": [
        {
          "output_type": "execute_result",
          "data": {
            "text/plain": [
              "DatetimeIndex(['2020-02-11', '2020-02-12', '2020-02-13', '2020-02-14',\n",
              "               '2020-02-17', '2020-02-18', '2020-02-19', '2020-02-20',\n",
              "               '2020-02-21', '2020-02-26',\n",
              "               ...\n",
              "               '2021-01-29', '2021-02-01', '2021-02-02', '2021-02-03',\n",
              "               '2021-02-04', '2021-02-05', '2021-02-08', '2021-02-09',\n",
              "               '2021-02-10', '2021-02-11'],\n",
              "              dtype='datetime64[ns]', name='Date', length=248, freq=None)"
            ]
          },
          "metadata": {
            "tags": []
          },
          "execution_count": 13
        }
      ]
    },
    {
      "cell_type": "markdown",
      "metadata": {
        "id": "7BSCd7jeqkA2"
      },
      "source": [
        "#Grafico de linhas"
      ]
    },
    {
      "cell_type": "code",
      "metadata": {
        "colab": {
          "base_uri": "https://localhost:8080/",
          "height": 277
        },
        "id": "Zf22YtEyo0GQ",
        "outputId": "93b5bdf0-b998-41ab-a022-e309544d8789"
      },
      "source": [
        "df['High'].plot();"
      ],
      "execution_count": 14,
      "outputs": [
        {
          "output_type": "display_data",
          "data": {
            "image/png": "[encoded data removed]",
            "text/plain": [
              "<Figure size 432x288 with 1 Axes>"
            ]
          },
          "metadata": {
            "tags": [],
            "needs_background": "light"
          }
        }
      ]
    },
    {
      "cell_type": "markdown",
      "metadata": {
        "id": "g14bwFzjsx8E"
      },
      "source": [
        "#Histograma"
      ]
    },
    {
      "cell_type": "code",
      "metadata": {
        "colab": {
          "base_uri": "https://localhost:8080/",
          "height": 278
        },
        "id": "pzvjoonbqtpK",
        "outputId": "6f1a9756-f270-4d3e-c56f-c8ea7e797b1c"
      },
      "source": [
        "# plotar histograma do volume\r\n",
        "df['Volume'].hist();"
      ],
      "execution_count": 16,
      "outputs": [
        {
          "output_type": "display_data",
          "data": {
            "image/png": "[encoded data removed]",
            "text/plain": [
              "<Figure size 432x288 with 1 Axes>"
            ]
          },
          "metadata": {
            "tags": [],
            "needs_background": "light"
          }
        }
      ]
    },
    {
      "cell_type": "code",
      "metadata": {
        "colab": {
          "base_uri": "https://localhost:8080/",
          "height": 265
        },
        "id": "dyFfNCwQuYA-",
        "outputId": "866ddfaa-87f3-4561-b60f-3dfb59e82c28"
      },
      "source": [
        "# plotar o boxplot para os valores máximos da ação\r\n",
        "df.High.plot(kind=\"box\");"
      ],
      "execution_count": 21,
      "outputs": [
        {
          "output_type": "display_data",
          "data": {
            "image/png": "[encoded data removed]",
            "text/plain": [
              "<Figure size 432x288 with 1 Axes>"
            ]
          },
          "metadata": {
            "tags": [],
            "needs_background": "light"
          }
        }
      ]
    },
    {
      "cell_type": "markdown",
      "metadata": {
        "id": "GJMfh1extYE3"
      },
      "source": [
        "## Gráfico de Dispersão (*Scatter Plot*)\r\n",
        "\r\n",
        "O gráfico de dispersão é um gráfico ideal para ver a correlação entre duas variáveis quaisquer.\r\n",
        "\r\n",
        "Serve não apenas para mostrar quanto uma variável é afetada por outra, mas também para plotar coordenadas geográficas para ter um *awareness* (como foi feito no projeto do Módulo 1).\r\n",
        "\r\n",
        "Como não faz sentido com os dados do BBAS3, vou trabalhar com outro *dataset*. Vamos usar dados de consumo de cerveja em uma região universitária da cidade de São Paulo.\r\n",
        "\r\n",
        "Para mais informações sobre os dados, acesse [este link](https://www.kaggle.com/dongeorge/beer-consumption-sao-paulo)."
      ]
    },
    {
      "cell_type": "code",
      "metadata": {
        "colab": {
          "base_uri": "https://localhost:8080/",
          "height": 202
        },
        "id": "bdcAeF6os8c-",
        "outputId": "88139beb-5b04-4087-e6df-4661ea8460d9"
      },
      "source": [
        "# importar dados de consumo de cerveja\r\n",
        "df_cerveja = pd.read_csv(\"https://raw.githubusercontent.com/carlosfab/dsnp2/master/datasets/consumo_cerveja.csv\")\r\n",
        "\r\n",
        "#ver as 5 primeiras entradas\r\n",
        "df_cerveja.head()"
      ],
      "execution_count": 17,
      "outputs": [
        {
          "output_type": "execute_result",
          "data": {
            "text/html": [
              "<div>\n",
              "<style scoped>\n",
              "    .dataframe tbody tr th:only-of-type {\n",
              "        vertical-align: middle;\n",
              "    }\n",
              "\n",
              "    .dataframe tbody tr th {\n",
              "        vertical-align: top;\n",
              "    }\n",
              "\n",
              "    .dataframe thead th {\n",
              "        text-align: right;\n",
              "    }\n",
              "</style>\n",
              "<table border=\"1\" class=\"dataframe\">\n",
              "  <thead>\n",
              "    <tr style=\"text-align: right;\">\n",
              "      <th></th>\n",
              "      <th>data</th>\n",
              "      <th>media</th>\n",
              "      <th>minima</th>\n",
              "      <th>maxima</th>\n",
              "      <th>precipitacao</th>\n",
              "      <th>fds</th>\n",
              "      <th>consumo</th>\n",
              "    </tr>\n",
              "  </thead>\n",
              "  <tbody>\n",
              "    <tr>\n",
              "      <th>0</th>\n",
              "      <td>2015-01-01</td>\n",
              "      <td>27.30</td>\n",
              "      <td>23.9</td>\n",
              "      <td>32.5</td>\n",
              "      <td>0.0</td>\n",
              "      <td>0.0</td>\n",
              "      <td>25.461</td>\n",
              "    </tr>\n",
              "    <tr>\n",
              "      <th>1</th>\n",
              "      <td>2015-01-02</td>\n",
              "      <td>27.02</td>\n",
              "      <td>24.5</td>\n",
              "      <td>33.5</td>\n",
              "      <td>0.0</td>\n",
              "      <td>0.0</td>\n",
              "      <td>28.972</td>\n",
              "    </tr>\n",
              "    <tr>\n",
              "      <th>2</th>\n",
              "      <td>2015-01-03</td>\n",
              "      <td>24.82</td>\n",
              "      <td>22.4</td>\n",
              "      <td>29.9</td>\n",
              "      <td>0.0</td>\n",
              "      <td>1.0</td>\n",
              "      <td>30.814</td>\n",
              "    </tr>\n",
              "    <tr>\n",
              "      <th>3</th>\n",
              "      <td>2015-01-04</td>\n",
              "      <td>23.98</td>\n",
              "      <td>21.5</td>\n",
              "      <td>28.6</td>\n",
              "      <td>1.2</td>\n",
              "      <td>1.0</td>\n",
              "      <td>29.799</td>\n",
              "    </tr>\n",
              "    <tr>\n",
              "      <th>4</th>\n",
              "      <td>2015-01-05</td>\n",
              "      <td>23.82</td>\n",
              "      <td>21.0</td>\n",
              "      <td>28.3</td>\n",
              "      <td>0.0</td>\n",
              "      <td>0.0</td>\n",
              "      <td>28.900</td>\n",
              "    </tr>\n",
              "  </tbody>\n",
              "</table>\n",
              "</div>"
            ],
            "text/plain": [
              "         data  media  minima  maxima  precipitacao  fds  consumo\n",
              "0  2015-01-01  27.30    23.9    32.5           0.0  0.0   25.461\n",
              "1  2015-01-02  27.02    24.5    33.5           0.0  0.0   28.972\n",
              "2  2015-01-03  24.82    22.4    29.9           0.0  1.0   30.814\n",
              "3  2015-01-04  23.98    21.5    28.6           1.2  1.0   29.799\n",
              "4  2015-01-05  23.82    21.0    28.3           0.0  0.0   28.900"
            ]
          },
          "metadata": {
            "tags": []
          },
          "execution_count": 17
        }
      ]
    },
    {
      "cell_type": "code",
      "metadata": {
        "colab": {
          "base_uri": "https://localhost:8080/",
          "height": 279
        },
        "id": "hnosgkqctr1l",
        "outputId": "680fe36c-bac2-4b68-99f2-837d5dd486ab"
      },
      "source": [
        "#plotar um gráfico de dispersão\r\n",
        "df_cerveja.plot.scatter('media', 'consumo');"
      ],
      "execution_count": 18,
      "outputs": [
        {
          "output_type": "display_data",
          "data": {
            "image/png": "[encoded data removed]",
            "text/plain": [
              "<Figure size 432x288 with 1 Axes>"
            ]
          },
          "metadata": {
            "tags": [],
            "needs_background": "light"
          }
        }
      ]
    },
    {
      "cell_type": "markdown",
      "metadata": {
        "id": "t4R49Jz2uCAs"
      },
      "source": [
        "## Boxplot\r\n",
        "\r\n",
        "Boxplot é um dos tipos de gráficos que conseguem fornecer o maior número de informações estatísticas de uma vez só.\r\n",
        "\r\n",
        "<center><img src=\"https://pro.arcgis.com/en/pro-app/help/analysis/geoprocessing/charts/GUID-0E2C3730-C535-40CD-8152-80D794A996A7-web.png\" height=\"200px\"></center>\r\n",
        "\r\n",
        "É possível ter em uma imagem os valores máximos, mínimos, quartis e mediana. *Outliers* também são representados como pontos acima do valor máximo ou abaixo do valor mínimo"
      ]
    },
    {
      "cell_type": "code",
      "metadata": {
        "colab": {
          "base_uri": "https://localhost:8080/",
          "height": 265
        },
        "id": "2dV8f2-Pt7cd",
        "outputId": "e639647f-3876-4576-fcf0-34d1efeb800f"
      },
      "source": [
        "# plotar o boxplot para os valores máximos de consumo de cerveja\r\n",
        "df_cerveja.consumo.plot(kind=\"box\");"
      ],
      "execution_count": 19,
      "outputs": [
        {
          "output_type": "display_data",
          "data": {
            "image/png": "[encoded data removed]",
            "text/plain": [
              "<Figure size 432x288 with 1 Axes>"
            ]
          },
          "metadata": {
            "tags": [],
            "needs_background": "light"
          }
        }
      ]
    },
    {
      "cell_type": "code",
      "metadata": {
        "id": "faZg_MyeuROY"
      },
      "source": [
        ""
      ],
      "execution_count": null,
      "outputs": []
    }
  ]
}